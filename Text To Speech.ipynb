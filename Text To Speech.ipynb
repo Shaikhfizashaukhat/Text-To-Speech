{
 "cells": [
  {
   "cell_type": "code",
   "execution_count": null,
   "id": "8b9d0ffa",
   "metadata": {},
   "outputs": [],
   "source": [
    "!pip install gtts"
   ]
  },
  {
   "cell_type": "code",
   "execution_count": null,
   "id": "6a8d511e",
   "metadata": {},
   "outputs": [],
   "source": [
    "from gtts import gTTS\n",
    "from IPython.display import Audio\n",
    "\n",
    "\n",
    "tts=gTTS('''Hello everyone this project is made by fiza.\n",
    "fiza has completed her b.Tech in computer science and technology from \n",
    "ambajogai and now doing extra course to expertise in AI as it is a future of every coding''',lang='hi',tld='com')\n",
    "tts.save('text_to_speech_gtts.wav')\n",
    "sound_file='text_to_speech_gtts.wav'\n",
    "\n",
    "Audio(sound_file,autoplay=False)\n"
   ]
  },
  {
   "cell_type": "code",
   "execution_count": null,
   "id": "5a216119",
   "metadata": {},
   "outputs": [],
   "source": [
    "!pip install pyttsx3"
   ]
  },
  {
   "cell_type": "code",
   "execution_count": null,
   "id": "a8d41063",
   "metadata": {},
   "outputs": [],
   "source": [
    "import pyttsx3\n",
    "from IPython.display import Audio\n",
    "text='''Hello everyone this project is made by fiza.\n",
    "fiza has completed her b.Tech in computer science and technology from \n",
    "ambajogai and now doing extra course to expertise in AI as it is a future of every coding'''\n",
    "\n",
    "audio=pyttsx3.init()\n",
    "audio.setProperty('rate',150)\n",
    "audio.setProperty('volume',0.8)\n",
    "\n",
    "\n",
    "#change the voice\n",
    "voice=audio.getProperty('voices')\n",
    "\n",
    "#0 for male and 1 for female\n",
    "audio.setProperty('voice',voice[0].id)\n",
    "#audio.setProperty('voice',voice[0].id)\n",
    "\n",
    "#text to speech conversion\n",
    "audio.say(text)\n",
    "\n",
    "#save the audio file\n",
    "audio.save_to_file(text, 'text_male_Voice.mp3')\n",
    "#audio.save_to_file(text, 'text_male_Voice.mp3')\n",
    "audio.runAndwait()\n"
   ]
  },
  {
   "cell_type": "markdown",
   "id": "5eab7cf5",
   "metadata": {},
   "source": [
    "# DONE"
   ]
  }
 ],
 "metadata": {
  "kernelspec": {
   "display_name": "Python 3 (ipykernel)",
   "language": "python",
   "name": "python3"
  },
  "language_info": {
   "codemirror_mode": {
    "name": "ipython",
    "version": 3
   },
   "file_extension": ".py",
   "mimetype": "text/x-python",
   "name": "python",
   "nbconvert_exporter": "python",
   "pygments_lexer": "ipython3",
   "version": "3.11.5"
  }
 },
 "nbformat": 4,
 "nbformat_minor": 5
}
